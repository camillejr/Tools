{
 "cells": [
  {
   "cell_type": "markdown",
   "metadata": {},
   "source": [
    "# Standard Atmosphere Calculator\n",
    "\n",
    "Calculator of temperature, pressure and density at a user-specified altitude for the International Standard Atmosphere (ISA).\n",
    "\n",
    "\n",
    ">The inspiration for creating this calculator came from a course [*Introduction to Aeronautical Engineering*](https://www.edx.org/course/introduction-to-aeronautical-engineering) offered by TU Delft.\n",
    "> \n",
    "> This site was created following the [tutorial](http://www.tonysaad.net/code/convert-interactive-jupyter-notebook-into-a-website/) by Professor Tony Saad from the University of Utah.\n",
    "\n",
    "**Enter the desired altitude below:**"
   ]
  },
  {
   "cell_type": "code",
   "execution_count": 3,
   "metadata": {},
   "outputs": [
    {
     "data": {
      "application/vnd.jupyter.widget-view+json": {
       "model_id": "921263fa92c54abe844c5065d1914bd1",
       "version_major": 2,
       "version_minor": 0
      },
      "text/plain": [
       "HBox(children=(BoundedFloatText(value=55.0, description='Altitude [km]:', max=85.0, step=0.001),))"
      ]
     },
     "metadata": {},
     "output_type": "display_data"
    },
    {
     "data": {
      "application/vnd.jupyter.widget-view+json": {
       "model_id": "bcdb31d1cd024b198be05228df8aa92d",
       "version_major": 2,
       "version_minor": 0
      },
      "text/plain": [
       "Output()"
      ]
     },
     "metadata": {},
     "output_type": "display_data"
    }
   ],
   "source": [
    "#HIDDEN\n",
    "import ipywidgets as widgets\n",
    "from ipywidgets import interact, interact_manual\n",
    "from SAC import get_parameters\n",
    "\n",
    "altitude = widgets.BoundedFloatText(value=55, min=0, max=85, step=0.001, description='Altitude [km]:')\n",
    "\n",
    "ui_altitude = widgets.HBox([altitude])\n",
    "\n",
    "out = widgets.interactive_output(get_parameters, {'altitude': altitude})\n",
    "\n",
    "display(ui_altitude, out)"
   ]
  },
  {
   "cell_type": "markdown",
   "metadata": {},
   "source": [
    "## International Standard Atmosphere\n",
    "\n",
    "```\n",
    "------------------------------------------------------\n",
    "      mezosphere (2)        (71-85)km\n",
    "\n",
    "      mezosphere (1)        (51-70.999)km\n",
    "\n",
    "      stratopause           (47-50.999)km (isothermal)\n",
    "\n",
    "      stratosphere (2)      (32-46.999)km\n",
    "      \n",
    "      stratosphere (1)      (20-31.999)km\n",
    "\n",
    "      tropopause            (11-19.999)km (isothermal)\n",
    "\n",
    "      troposphere           (0-10.999)km\n",
    "\n",
    "----- sea level ----------- (0)km --------------------\n",
    "```\n",
    "\n",
    "### Equations for ISA\n",
    "\n",
    "#### Sea level conditions\n",
    "\n",
    "$T_0 = 288.15K$\n",
    "\n",
    "$p_0 = 101325.0 Pa$\n",
    "\n",
    "$\\rho_0 = 1.225 kg/m^3$\n",
    "\n",
    "With the specific gas constant:\n",
    "\n",
    "$R = 287.058 J/kgK$\n",
    "\n",
    "and gravitational acceleration:\n",
    "\n",
    "$g = 9.80665 kgm/s^2$\n",
    "\n",
    "The values of lapse rates are given in $K/m$.\n",
    "\n",
    "#### Troposhpere\n",
    "\n",
    "$T(h) = T_0 -0.0065 h$\n",
    "\n",
    "$p(h) = p_0 (\\frac{T(h)}{T_0})^{\\frac{-g}{-0.0065 R}}$\n",
    "\n",
    "$\\rho(h) = \\rho_0 (\\frac{T(h)}{T_0})^{\\frac{-g}{-0.0065 R} - 1}$\n",
    "\n",
    "\n",
    "#### Tropopause\n",
    "\n",
    "$T(h) = T_1$ (isothermal)\n",
    "\n",
    "$p(h) = p_1 e^{\\frac{-g}{R T_1} (h - 11000)}$\n",
    "\n",
    "$\\rho(h) = \\rho_1 e^{\\frac{-g}{T_1} (h - 11000)}$\n",
    "\n",
    "where $T_1$, $p_1$, $\\rho_1$ are the temperature, pressure and density at the interface between troposphere and tropopause.\n",
    "\n",
    "#### Stratosphere (1)\n",
    "\n",
    "$T(h) = T_2 + 0.001 (h - 20000)$ \n",
    "\n",
    "$p(h) = p_2 (\\frac{T(h)}{T_2})^{\\frac{-g}{0.001 R}}$\n",
    "\n",
    "$\\rho(h) = \\rho_2 (\\frac{T(h)}{T_2})^{\\frac{-g}{0.001 R} - 1}$\n",
    "\n",
    "where $T_2$, $p_2$, $\\rho_2$ are the temperature, pressure and density at the interface between tropopause and stratosphere (1).\n",
    "\n",
    "#### Stratosphere (2)\n",
    "\n",
    "$T(h) = T_3 + 0.0028 (h - 32000)$ \n",
    "\n",
    "$p(h) = p_3 (\\frac{T(h)}{T_3})^{\\frac{-g}{0.0028 R}}$\n",
    "\n",
    "$\\rho(h) = \\rho_3 (\\frac{T(h)}{T_3})^{\\frac{-g}{0.0028 R} - 1}$\n",
    "\n",
    "where $T_3$, $p_3$, $\\rho_3$ are the temperature, pressure and density at the interface between stratosphere (1) and stratosphere (2).\n",
    "\n",
    "#### Stratopause\n",
    "\n",
    "$T(h) = T_4$ (isothermal)\n",
    "\n",
    "$p(h) = p_4 e^{\\frac{-g}{R T_4} (h - 47000)}$\n",
    "\n",
    "$\\rho(h) = \\rho_4 e^{\\frac{-g}{T_4} (h - 47000)}$\n",
    "\n",
    "where $T_4$, $p_4$, $\\rho_4$ are the temperature, pressure and density at the interface between stratosphere (2) and stratopause.\n",
    "\n",
    "#### Mezosphere (1)\n",
    "\n",
    "\n",
    "$T(h) = T_5 -0.0028 (h - 51000)$ \n",
    "\n",
    "$p(h) = p_5 (\\frac{T(h)}{T_5})^{\\frac{-g}{-0.0028 R}}$\n",
    "\n",
    "$\\rho(h) = \\rho_5 (\\frac{T(h)}{T_5})^{\\frac{-g}{-0.0028 R} - 1}$\n",
    "\n",
    "where $T_5$, $p_5$, $\\rho_5$ are the temperature, pressure and density at the interface between stratopause and mezosphere (1).\n",
    "\n",
    "\n",
    "#### Mezosphere (2)\n",
    "\n",
    "$T(h) = T_6 -0.002 (h - 71000)$ \n",
    "\n",
    "$p(h) = p_6 (\\frac{T(h)}{T_6})^{\\frac{-g}{-0.002 R}}$\n",
    "\n",
    "$\\rho(h) = \\rho_6 (\\frac{T(h)}{T_6})^{\\frac{-g}{-0.002 R} - 1}$\n",
    "\n",
    "where $T_6$, $p_6$, $\\rho_6$ are the temperature, pressure and density at the interface between mezosphere (1) and mezosphere (2).\n"
   ]
  }
 ],
 "metadata": {
  "kernelspec": {
   "display_name": "Python 3",
   "language": "python",
   "name": "python3"
  },
  "language_info": {
   "codemirror_mode": {
    "name": "ipython",
    "version": 3
   },
   "file_extension": ".py",
   "mimetype": "text/x-python",
   "name": "python",
   "nbconvert_exporter": "python",
   "pygments_lexer": "ipython3",
   "version": "3.7.6"
  }
 },
 "nbformat": 4,
 "nbformat_minor": 4
}
